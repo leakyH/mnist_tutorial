{
 "cells": [
  {
   "cell_type": "markdown",
   "metadata": {},
   "source": [
    "# Pytorch Tutorial"
   ]
  },
  {
   "cell_type": "markdown",
   "metadata": {},
   "source": [
    "Pytorch is a popular deep learning framework and it's easy to get started."
   ]
  },
  {
   "cell_type": "code",
   "execution_count": 1,
   "metadata": {},
   "outputs": [],
   "source": [
    "import torch\n",
    "from torch.autograd import Variable\n",
    "import torch.nn as nn\n",
    "import torch.utils.data as data\n",
    "import torchvision\n",
    "import torchvision.transforms as transforms\n",
    "import time\n",
    "\n",
    "BATCH_SIZE = 16\n",
    "NUM_EPOCHS = 10"
   ]
  },
  {
   "cell_type": "markdown",
   "metadata": {},
   "source": [
    "First, we read the mnist data, preprocess them and encapsulate them into dataloader form."
   ]
  },
  {
   "cell_type": "code",
   "execution_count": 2,
   "metadata": {},
   "outputs": [],
   "source": [
    "# preprocessing\n",
    "normalize = transforms.Normalize(mean=[.5], std=[.5])\n",
    "transform = transforms.Compose([transforms.ToTensor(), normalize])\n",
    "\n",
    "# download and load the data\n",
    "train_dataset = torchvision.datasets.MNIST(root='./mnist/', train=True, transform=transform, download=True)\n",
    "test_dataset = torchvision.datasets.MNIST(root='./mnist/', train=False, transform=transform, download=False)\n",
    "\n",
    "# encapsulate them into dataloader form\n",
    "train_loader = data.DataLoader(train_dataset, batch_size=BATCH_SIZE, shuffle=True, drop_last=True)\n",
    "test_loader = data.DataLoader(test_dataset, batch_size=BATCH_SIZE, shuffle=False, drop_last=True)"
   ]
  },
  {
   "cell_type": "code",
   "execution_count": null,
   "metadata": {},
   "outputs": [],
   "source": []
  },
  {
   "cell_type": "markdown",
   "metadata": {},
   "source": [
    "Then, we define the model, object function and optimizer that we use to classify."
   ]
  },
  {
   "cell_type": "code",
   "execution_count": 3,
   "metadata": {},
   "outputs": [],
   "source": [
    "class SimpleNet(nn.Module):\n",
    "# TODO:define model\n",
    "    def __init__(self):\n",
    "        super(SimpleNet, self).__init__()\n",
    "\n",
    "        self.conv1 = nn.Conv2d(in_channels=1, out_channels=12, kernel_size=3, stride=1, padding=1)\n",
    "        self.relu1 = nn.ReLU(inplace=True)\n",
    "        self.pool = nn.MaxPool2d(kernel_size=2)\n",
    "        self.conv2 = nn.Conv2d(in_channels=12, out_channels=12, kernel_size=3, stride=1, padding=1)\n",
    "        self.relu2 = nn.ReLU(inplace=True)\n",
    "\n",
    "        self.fc = nn.Linear(in_features=BATCH_SIZE*12*14*14, out_features=BATCH_SIZE*10)\n",
    "\n",
    "    def forward(self, input):\n",
    "        output = self.conv1(input)\n",
    "        output = self.relu1(output)\n",
    "        output = self.pool(output)\n",
    "        output = self.conv2(output)\n",
    "        output = self.relu2(output)\n",
    "        output = output.view(1,-1 )\n",
    "        output = self.fc(output)\n",
    "\n",
    "        return output\n",
    "torch.backends.cudnn.benchmark = True \n",
    "from torch.optim import Adam    \n",
    "model = SimpleNet()\n",
    "if torch.cuda.is_available():\n",
    "    model.cuda()\n",
    "# TODO:define loss function and optimiter\n",
    "criterion = nn.CrossEntropyLoss()\n",
    "optimizer = Adam(model.parameters(), lr=0.001, weight_decay=0.0001)"
   ]
  },
  {
   "cell_type": "code",
   "execution_count": 8,
   "metadata": {},
   "outputs": [
    {
     "data": {
      "text/plain": [
       "625.0"
      ]
     },
     "execution_count": 8,
     "metadata": {},
     "output_type": "execute_result"
    }
   ],
   "source": []
  },
  {
   "cell_type": "markdown",
   "metadata": {},
   "source": [
    "Next, we can start to train and evaluate!"
   ]
  },
  {
   "cell_type": "code",
   "execution_count": 14,
   "metadata": {},
   "outputs": [],
   "source": [
    "# evaluate\n",
    "    # TODO:calculate the accuracy using traning and testing dataset\n",
    "def evaluate(data_loader):\n",
    "    model.eval()\n",
    "    acc = 0\n",
    "    for data in data_loader:\n",
    "        img, label = data\n",
    "        if torch.cuda.is_available():\n",
    "            img = Variable(img).view(BATCH_SIZE,1,28, 28).cuda()\n",
    "            label = Variable(label).cuda()\n",
    "        else:\n",
    "            img = Variable(img).view(BATCH_SIZE,1,28, 28)\n",
    "            label = Variable(label)\n",
    "        out = model(img)\n",
    "        out_reshape=out[0].view(BATCH_SIZE,10)\n",
    "        _, pred = torch.max(out_reshape, 1)\n",
    "        num_correct = (pred == label).sum()\n",
    "        acc += num_correct.item()\n",
    "    print('Accuracy:{:.6f}'.format(acc / (len(data_loader)*BATCH_SIZE)))\n",
    "    \n",
    "    \n",
    "    "
   ]
  },
  {
   "cell_type": "code",
   "execution_count": 15,
   "metadata": {},
   "outputs": [
    {
     "name": "stdout",
     "output_type": "stream",
     "text": [
      "0\n",
      "Accuracy:0.907500\n",
      "1\n",
      "Accuracy:0.932800\n",
      "2\n",
      "Accuracy:0.928900\n",
      "3\n",
      "Accuracy:0.932000\n",
      "4\n",
      "Accuracy:0.936000\n",
      "5\n",
      "Accuracy:0.936900\n",
      "6\n",
      "Accuracy:0.940200\n",
      "7\n",
      "Accuracy:0.942100\n",
      "8\n",
      "Accuracy:0.938900\n",
      "9\n",
      "Accuracy:0.942300\n"
     ]
    }
   ],
   "source": [
    "# train and evaluate\n",
    "for epoch in range(NUM_EPOCHS):\n",
    "    print(epoch)\n",
    "    for images, labels in iter(train_loader):\n",
    "        # TODO:forward + backward + optimize\n",
    "        if torch.cuda.is_available():\n",
    "            img = Variable(images.view(BATCH_SIZE,1,28, 28)).cuda()\n",
    "            label = Variable(labels).cuda()\n",
    "        else:\n",
    "            img = Variable(images.view(BATCH_SIZE,1,28, 28))\n",
    "            print(\"GPU not available\")\n",
    "            label = Variable(labels)\n",
    "        out = model(img)\n",
    "        out_reshape=out[0].view(BATCH_SIZE,10)\n",
    "        loss = criterion(out_reshape, label)\n",
    "        optimizer.zero_grad()\n",
    "        loss.backward()\n",
    "        optimizer.step()\n",
    "\n",
    "        torch.cuda.empty_cache()\n",
    "    evaluate(test_loader)      \n",
    "        \n",
    "        \n",
    "        \n",
    "        \n",
    "    \n"
   ]
  },
  {
   "cell_type": "markdown",
   "metadata": {},
   "source": [
    "#### Q5:\n",
    "Please print the training and testing accuracy."
   ]
  },
  {
   "cell_type": "code",
   "execution_count": 16,
   "metadata": {},
   "outputs": [
    {
     "name": "stdout",
     "output_type": "stream",
     "text": [
      "Accuracy:0.939383\n"
     ]
    }
   ],
   "source": [
    "evaluate(train_loader)"
   ]
  },
  {
   "cell_type": "code",
   "execution_count": null,
   "metadata": {},
   "outputs": [],
   "source": []
  }
 ],
 "metadata": {
  "kernelspec": {
   "display_name": "ML_env",
   "language": "python",
   "name": "ml_env"
  },
  "language_info": {
   "codemirror_mode": {
    "name": "ipython",
    "version": 3
   },
   "file_extension": ".py",
   "mimetype": "text/x-python",
   "name": "python",
   "nbconvert_exporter": "python",
   "pygments_lexer": "ipython3",
   "version": "3.6.3"
  }
 },
 "nbformat": 4,
 "nbformat_minor": 2
}
